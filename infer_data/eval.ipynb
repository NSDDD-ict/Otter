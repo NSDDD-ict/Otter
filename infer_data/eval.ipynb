{
 "cells": [
  {
   "cell_type": "code",
   "execution_count": 2,
   "metadata": {},
   "outputs": [],
   "source": [
    "import json\n",
    "# 读取/mnt/bn/ecom-govern-maxiangqian-lq/lj/Otter/infer_data/test_res_otter_llama_9b_0825.json\n",
    "with open('/mnt/bn/ecom-govern-maxiangqian-lq/lj/Otter/infer_data/test_res_otter_llama_9b_0825.json', 'r') as f:\n",
    "    datas = json.load(f)\n",
    "\n",
    "for idx, data in enumerate(datas):\n",
    "    datas[idx]['output'] = data['predict']\n",
    "    # 删除predict\n",
    "    datas[idx].pop('predict')\n",
    "    \n",
    "# 保存/mnt/bn/ecom-govern-maxiangqian-lq/lj/Otter/infer_data/test_res_otter_llama_9b_0825_answer.json\n",
    "with open('/mnt/bn/ecom-govern-maxiangqian-lq/lj/Otter/infer_data/test_res_otter_llama_9b_0825_answer.json', 'w') as f:\n",
    "    json.dump(datas, f)\n"
   ]
  },
  {
   "cell_type": "code",
   "execution_count": 9,
   "metadata": {},
   "outputs": [],
   "source": [
    "import pandas as pd\n",
    "import json\n",
    "\n",
    "# Load the data\n",
    "with open('/mnt/bn/ecom-govern-maxiangqian-lq/lj/data/dwq/annotation_with_ID/funqa_test.json', 'r') as f:\n",
    "    data = json.load(f)\n",
    "\n",
    "# Convert to DataFrame\n",
    "df = pd.DataFrame(data)\n",
    "\n",
    "# List of tasks\n",
    "tasks = [\"H2\", \"H3\", \"H4\", \"C2\", \"C3\", \"C4\", \"M2\", \"M3\"]\n",
    "\n",
    "# Empty DataFrame to store sampled data\n",
    "sampled_df = pd.DataFrame()\n",
    "\n",
    "# Loop over tasks and sample data\n",
    "for task in tasks:\n",
    "    sample = df[df['task'] == task].sample(200)\n",
    "    sampled_df = pd.concat([sampled_df, sample])\n",
    "\n",
    "# 按照ID字段排序\n",
    "sampled_df = sampled_df.sort_values(by=['ID'])\n",
    "\n",
    "# Now, sampled_df contains 100 randomly sampled rows for each specified task\n",
    "# Save to file\n",
    "sampled_df.to_json('/mnt/bn/ecom-govern-maxiangqian-lq/lj/data/dwq/annotation_with_ID/funqa_test_sampled.json', orient='records')"
   ]
  },
  {
   "cell_type": "code",
   "execution_count": 10,
   "metadata": {},
   "outputs": [],
   "source": [
    "import pandas as pd\n",
    "import json\n",
    "\n",
    "# Load the answers data\n",
    "with open('/mnt/bn/ecom-govern-maxiangqian-lq/lj/Otter/infer_data/test_res_otter_llama_9b_0825_answer.json', 'r') as f:\n",
    "    data_answer = json.load(f)\n",
    "\n",
    "# Convert to DataFrame\n",
    "df_answer = pd.DataFrame(data_answer)\n",
    "\n",
    "# Extract samples IDs\n",
    "sample_ids = sampled_df['ID'].values\n",
    "\n",
    "# Get corresponding answers from answer dataframe\n",
    "answer_sample = df_answer[df_answer['ID'].isin(sample_ids)]\n",
    "\n",
    "# Now, answer_sample contains answers for the sampled_df data\n",
    "# Save to file\n",
    "answer_sample.to_json('/mnt/bn/ecom-govern-maxiangqian-lq/lj/Otter/infer_data/test_res_otter_llama_9b_0825_answer_sampled.json', orient='records')"
   ]
  },
  {
   "cell_type": "code",
   "execution_count": 12,
   "metadata": {},
   "outputs": [],
   "source": []
  },
  {
   "cell_type": "code",
   "execution_count": null,
   "metadata": {},
   "outputs": [],
   "source": []
  }
 ],
 "metadata": {
  "kernelspec": {
   "display_name": "Python 3",
   "language": "python",
   "name": "python3"
  },
  "language_info": {
   "codemirror_mode": {
    "name": "ipython",
    "version": 3
   },
   "file_extension": ".py",
   "mimetype": "text/x-python",
   "name": "python",
   "nbconvert_exporter": "python",
   "pygments_lexer": "ipython3",
   "version": "3.7.3"
  },
  "orig_nbformat": 4
 },
 "nbformat": 4,
 "nbformat_minor": 2
}
